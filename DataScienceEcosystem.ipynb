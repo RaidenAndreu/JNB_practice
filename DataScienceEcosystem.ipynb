{
 "cells": [
  {
   "cell_type": "markdown",
   "id": "78f828f2-aa09-4cb4-b057-696c2a3f502f",
   "metadata": {},
   "source": [
    "# Data Science tools and Ecosystem"
   ]
  },
  {
   "cell_type": "markdown",
   "id": "b53e96bf-1c61-4df0-a252-63b8f0465394",
   "metadata": {},
   "source": [
    "**Objectives:**"
   ]
  },
  {
   "cell_type": "markdown",
   "id": "5f6c3c19-4584-4e56-98bf-9489cec678cb",
   "metadata": {},
   "source": [
    " * List some of the commonly used libraries by Data Scientists.\n",
    " * List three of the most used Data Science tools.\n",
    " * Create titles in Jupyter Notebook.\n",
    " * Make tables in Jupyter Notebook.\n",
    " * Make simple arithmetic expressions in Python."
   ]
  },
  {
   "cell_type": "markdown",
   "id": "7d556378-9afe-42c7-9588-3b429d63cf38",
   "metadata": {},
   "source": [
    "In this notebook, Data Science Tools and Ecosystem are summarized."
   ]
  },
  {
   "cell_type": "markdown",
   "id": "6df50b46-e9aa-4d50-b778-2e3d1ad48432",
   "metadata": {},
   "source": [
    "Some of the popular languages that Data Scientists use are:  \n",
    "\n",
    "            1. Python.\n",
    "            2. R.\n",
    "            3. Julia.\n",
    "            4. Scala."
   ]
  },
  {
   "cell_type": "markdown",
   "id": "5440ad5c-a1ac-44ff-a574-a0f1bb7d93eb",
   "metadata": {},
   "source": [
    "Some of the commonly used libraries used by Data Scientist include:\n",
    "\n",
    "        1. Numpy.\n",
    "        2. Pandas.\n",
    "        3. Seaburn."
   ]
  },
  {
   "cell_type": "markdown",
   "id": "4aef1b52-ed53-4745-8cab-18cc713f41b8",
   "metadata": {},
   "source": [
    "### Below are a few examples of evaluating arithmetic expressions in Python"
   ]
  },
  {
   "cell_type": "code",
   "execution_count": null,
   "id": "483fd720-3789-4d70-8554-c1c38e5e25e2",
   "metadata": {},
   "outputs": [],
   "source": [
    "# This is a simple arithmetic expression to multiply then add integers:\n",
    "\n",
    "(3*4) + 5"
   ]
  },
  {
   "cell_type": "code",
   "execution_count": null,
   "id": "1103debc-fdb8-4203-a3f0-4666200d361f",
   "metadata": {},
   "outputs": [],
   "source": [
    "# This will convert 200 minutes to hours dividing by 60\n",
    "200 // 60"
   ]
  },
  {
   "cell_type": "markdown",
   "id": "dd5408e7-a883-4ec7-8f5d-fe8d7dbddcfa",
   "metadata": {},
   "source": [
    "## Author"
   ]
  },
  {
   "cell_type": "markdown",
   "id": "2edb8a26-40e8-453c-ba0c-b8c957354c61",
   "metadata": {},
   "source": [
    "Andreu Lucas Morant"
   ]
  }
 ],
 "metadata": {
  "kernelspec": {
   "display_name": "Python 3 (ipykernel)",
   "language": "python",
   "name": "python3"
  },
  "language_info": {
   "codemirror_mode": {
    "name": "ipython",
    "version": 3
   },
   "file_extension": ".py",
   "mimetype": "text/x-python",
   "name": "python",
   "nbconvert_exporter": "python",
   "pygments_lexer": "ipython3",
   "version": "3.11.7"
  }
 },
 "nbformat": 4,
 "nbformat_minor": 5
}
