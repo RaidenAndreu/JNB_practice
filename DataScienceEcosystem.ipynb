{
 "cells": [
  {
   "cell_type": "markdown",
   "id": "3c9261ba-ebda-49bd-b9e1-cba059d75957",
   "metadata": {},
   "source": [
    "# Data Science Tools and Ecosystem"
   ]
  },
  {
   "cell_type": "markdown",
   "id": "1030a84f-5ce2-49df-aeaf-95acc6b4f593",
   "metadata": {},
   "source": [
    "In this notebook, Data Science Tools and Ecosystem are summarized."
   ]
  },
  {
   "cell_type": "markdown",
   "id": "6f285e42-e327-422f-b283-43a8ff3cc908",
   "metadata": {},
   "source": [
    "**Objectives:**\n",
    " * List some of the commonly used libraries by Data Scientists.\n",
    " * List three of the most used Data Science tools.\n",
    " * Create titles in Jupyter Notebook.\n",
    " * Make tables in Jupyter Notebook.\n",
    " * Make simple arithmetic expressions in Python."
   ]
  },
  {
   "cell_type": "code",
   "execution_count": null,
   "id": "b84b1c3c-911a-4491-a434-fd47787a362c",
   "metadata": {},
   "outputs": [],
   "source": []
  },
  {
   "cell_type": "markdown",
   "id": "1df58802-b502-42ad-a43c-d25bf9d4bbb7",
   "metadata": {},
   "source": [
    "Some of the popular languages that Data Scientist use are:\n",
    "- Python.\n",
    "- R.\n",
    "- Julia."
   ]
  },
  {
   "cell_type": "markdown",
   "id": "49527072-1b6d-4f8c-b82c-848e6e027845",
   "metadata": {},
   "source": [
    "Some of the commonly used libraries used by Data Scientist include:\n",
    "    - Numpy.\n",
    "    - Pandas.\n",
    "    - Seaburn."
   ]
  },
  {
   "cell_type": "markdown",
   "id": "126cdb65-58f1-4b8e-915b-83a3102a7de4",
   "metadata": {},
   "source": [
    "|Data Science Tools|\n",
    "|------------------|\n",
    "|      Python      |\n",
    "|    Matplotlib    |\n",
    "|   Scikit-learn   |\n"
   ]
  },
  {
   "cell_type": "markdown",
   "id": "beb0701a-b5b5-4d4d-9c53-33daf8caf271",
   "metadata": {},
   "source": [
    "### Examples of evaluating arithmetic expressions in Python:"
   ]
  },
  {
   "cell_type": "code",
   "execution_count": 1,
   "id": "12a6d722-c1dd-445c-ba26-2f2f7e4adb38",
   "metadata": {},
   "outputs": [
    {
     "data": {
      "text/plain": [
       "17"
      ]
     },
     "execution_count": 1,
     "metadata": {},
     "output_type": "execute_result"
    }
   ],
   "source": [
    "# This is a simple arithmetic expression to multiply then add integers:\n",
    "\n",
    "(3*4) + 5"
   ]
  },
  {
   "cell_type": "code",
   "execution_count": 2,
   "id": "97cf7a17-6a06-4f7c-830b-41859dcd917a",
   "metadata": {},
   "outputs": [
    {
     "data": {
      "text/plain": [
       "3.3333333333333335"
      ]
     },
     "execution_count": 2,
     "metadata": {},
     "output_type": "execute_result"
    }
   ],
   "source": [
    "# This will convert 200 minutes to hours dividing by 60\n",
    "200 / 60"
   ]
  },
  {
   "cell_type": "code",
   "execution_count": null,
   "id": "cdfb525c-2730-4cd1-89fb-80ddeb94f100",
   "metadata": {},
   "outputs": [],
   "source": []
  },
  {
   "cell_type": "markdown",
   "id": "c30205a2-e463-44c5-94d7-df6877283a35",
   "metadata": {},
   "source": [
    "## Author\n",
    "\n",
    "Andreu"
   ]
  },
  {
   "cell_type": "code",
   "execution_count": null,
   "id": "71e016bd-34a2-49f2-9df0-aa3fbefc3f8d",
   "metadata": {},
   "outputs": [],
   "source": []
  },
  {
   "cell_type": "code",
   "execution_count": null,
   "id": "441aa9a3-41b6-475b-b97b-c60d656fe62e",
   "metadata": {},
   "outputs": [],
   "source": []
  }
 ],
 "metadata": {
  "kernelspec": {
   "display_name": "Python 3 (ipykernel)",
   "language": "python",
   "name": "python3"
  },
  "language_info": {
   "codemirror_mode": {
    "name": "ipython",
    "version": 3
   },
   "file_extension": ".py",
   "mimetype": "text/x-python",
   "name": "python",
   "nbconvert_exporter": "python",
   "pygments_lexer": "ipython3",
   "version": "3.11.7"
  }
 },
 "nbformat": 4,
 "nbformat_minor": 5
}
